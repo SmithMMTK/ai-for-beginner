{
 "cells": [
  {
   "cell_type": "code",
   "execution_count": 13,
   "id": "42432edf",
   "metadata": {},
   "outputs": [
    {
     "name": "stdout",
     "output_type": "stream",
     "text": [
      "Paris is a city rich in history, art, and culture. Here are some must-see attractions and activities to consider during your visit:\n",
      "\n",
      "1. **Eiffel Tower**: An iconic symbol of Paris, you can visit the tower for stunning views of the city, especially from the top.\n",
      "\n",
      "2. **Louvre Museum**: Home to thousands of works of art, including the Mona Lisa and the Venus de Milo, the Louvre is one of the world's largest and most visited museums.\n",
      "\n",
      "3. **Notre-Dame Cathedral**: Although it is currently under restoration, the exterior of this Gothic masterpiece is still worth seeing. You can also explore the surrounding Île de la Cité.\n",
      "\n",
      "4. **Montmartre**: A charming neighborhood known for its\n"
     ]
    }
   ],
   "source": [
    "import os\n",
    "from openai import AzureOpenAI\n",
    "from dotenv import load_dotenv\n",
    "\n",
    "# Initialize Azure OpenAI client\n",
    "client = AzureOpenAI(\n",
    "    api_key=os.getenv(\"AZURE_OPENAI_API_KEY\"),\n",
    "    api_version=\"2024-12-01-preview\",\n",
    "    azure_endpoint=os.getenv(\"AZURE_OPENAI_TARGET_ENDPOINT\")\n",
    ")\n",
    "\n",
    "# Make a basic completion request\n",
    "response = client.chat.completions.create(\n",
    "    model=os.getenv(\"AZURE_OPENAI_CHAT_DEPLOYMENT_NAME\"),  # or your deployed model name\n",
    "        messages=[\n",
    "        {\n",
    "            \"role\": \"system\",\n",
    "            \"content\": \"You are a helpful assistant.\",\n",
    "        },\n",
    "        {\n",
    "            \"role\": \"user\",\n",
    "            \"content\": \"I am going to Paris, what should I see?\",\n",
    "        }\n",
    "    ],\n",
    "    temperature=0.7,\n",
    "    max_tokens=150\n",
    ")\n",
    "\n",
    "# Print the response\n",
    "print(response.choices[0].message.content)"
   ]
  },
  {
   "cell_type": "code",
   "execution_count": 14,
   "id": "211b1a52",
   "metadata": {},
   "outputs": [
    {
     "name": "stdout",
     "output_type": "stream",
     "text": [
      "Yes, several Azure services support customer-managed keys (CMK) for encryption and data protection. These services allow customers to manage their own encryption keys, providing greater control over data security. Some of the Azure services that support customer-managed keys include:\n",
      "\n",
      "1. **Azure Storage**: You can use CMK for encrypting data in Azure Blob Storage, Azure Files, and Azure Disk Storage.\n",
      "\n",
      "2. **Azure SQL Database**: You can manage encryption keys for Transparent Data Encryption (TDE) using Azure Key Vault.\n",
      "\n",
      "3. **Azure Cosmos DB**: Supports customer-managed keys for encryption of data at rest.\n",
      "\n",
      "4. **Azure Kubernetes Service (AKS)**: Allows the use of customer-managed keys for secrets stored in Azure Key Vault.\n",
      "\n",
      "5\n"
     ]
    }
   ],
   "source": [
    "import os\n",
    "from openai import AzureOpenAI\n",
    "from dotenv import load_dotenv\n",
    "\n",
    "# Initialize Azure OpenAI client\n",
    "client = AzureOpenAI(\n",
    "    api_key=os.getenv(\"AZURE_OPENAI_API_KEY\"),\n",
    "    api_version=\"2024-12-01-preview\",\n",
    "    azure_endpoint=os.getenv(\"AZURE_OPENAI_TARGET_ENDPOINT\")\n",
    ")\n",
    "\n",
    "# Make a basic completion request\n",
    "response = client.chat.completions.create(\n",
    "    model=os.getenv(\"AZURE_OPENAI_CHAT_DEPLOYMENT_NAME\"),  # or your deployed model name\n",
    "        messages=[\n",
    "        {\"role\": \"system\", \"content\": \"You are a helpful assistant.\"},\n",
    "        {\"role\": \"user\", \"content\": \"Does Azure OpenAI support customer managed keys?\"},\n",
    "        {\"role\": \"assistant\", \"content\": \"Yes, customer managed keys are supported by Azure OpenAI.\"},\n",
    "        {\"role\": \"user\", \"content\": \"Do other Azure services support this too?\"}\n",
    "    ],\n",
    "    temperature=0.7,\n",
    "    max_tokens=150\n",
    ")\n",
    "\n",
    "# Print the response\n",
    "print(response.choices[0].message.content)"
   ]
  }
 ],
 "metadata": {
  "kernelspec": {
   "display_name": ".venv",
   "language": "python",
   "name": "python3"
  },
  "language_info": {
   "codemirror_mode": {
    "name": "ipython",
    "version": 3
   },
   "file_extension": ".py",
   "mimetype": "text/x-python",
   "name": "python",
   "nbconvert_exporter": "python",
   "pygments_lexer": "ipython3",
   "version": "3.13.3"
  }
 },
 "nbformat": 4,
 "nbformat_minor": 5
}
